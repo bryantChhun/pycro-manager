{
 "cells": [
  {
   "cell_type": "markdown",
   "metadata": {},
   "source": [
    "<hr style=\"height:2px;\">\n",
    "\n",
    "# Demo: Phase Retrieval\n",
    "\n",
    "In this tutorial we will use Pycro-Manager to easily collect a quantitative phase image of a sample! We will be using the [Transport of Intensity Equation (TIE)](https://en.wikipedia.org/wiki/Transport-of-intensity_equation)  to retrieve quantitative phase from a z-stack aquired by pycromanager on your microscope.\n",
    "\n",
    "Please install [Pycro-Manager](https://pycro-manager.readthedocs.io/en/latest/setup.html) locally before running this Colab notebook."
   ]
  },
  {
   "cell_type": "markdown",
   "metadata": {},
   "source": [
    "<hr style=\"height:2px;\">\n",
    "\n",
    "## Part 1: Setup\n",
    "\n",
    "If you have not yet, install Pycro-Manager:   \n",
    "```\n",
    "pip install pycromanager\n",
    "```\n",
    "Make sure you have NumPy, SciPy, TensorFlow (version >=2.3), and TensorFlow Probability installed before preceding.\n",
    "Run the following block (it's quite long! Don't worry!):"
   ]
  },
  {
   "cell_type": "code",
   "execution_count": 1,
   "metadata": {},
   "outputs": [],
   "source": [
    "import numpy as np\n",
    "from numpy import fft\n",
    "import matplotlib.pyplot as plt\n",
    "# import tensorflow_probability as tfp\n",
    "from scipy.optimize import fsolve\n",
    "from scipy.io import loadmat\n",
    "\n",
    "test_path = 'phase_rec_GUI/datasets/moustache_man_stack.mat'\n",
    "\n",
    "\n",
    "def GP_TIE(Ividmeas, z_vec, lambd, ps, zfocus, Nsl, eps1, eps2, reflect):\n",
    "\n",
    "    RePhase1 = RunGaussianProcess(Ividmeas, zfocus, z_vec, lambd, ps, Nsl, eps1, eps2, reflect)\n",
    "    RePhase1 = RePhase1 / np.mean(Ividmeas)\n",
    "    return RePhase1\n",
    "\n",
    "def RunGaussianProcess(Ividmeas,zfocus,z_vec,lambd,ps,Nsl,eps1,eps2,reflect):\n",
    "\n",
    "    (Nx, Ny, Nz) = Ividmeas.shape\n",
    "    I0 = Ividmeas[:,:,zfocus]\n",
    "    zfocus = z_vec[zfocus]\n",
    "    freqs = CalFrequency(Ividmeas[:,:,0], lambd, ps, 1)\n",
    "    max_freq = np.max(freqs)\n",
    "    max_freq = np.sqrt(max_freq / (lambd / 2))\n",
    "    freq_cutoff = np.linspace(0,1,Nsl) * max_freq\n",
    "    freq_cutoff = freq_cutoff ** 2 * lambd / 2\n",
    "\n",
    "    SigmafStack = np.zeros((Nsl,1))\n",
    "    SigmanStack = np.zeros((Nsl,1))\n",
    "    SigmalStack = np.zeros((Nsl,1))\n",
    "    freq_to_sc = np.linspace(1.2,1.1,Nsl)\n",
    "    p = Nz / (np.max(z_vec) - np.min(z_vec))\n",
    "\n",
    "    for k in range(Nsl):\n",
    "        Sigman = 10.0**-9\n",
    "        Sigmaf = 1.0\n",
    "\n",
    "        f1 = freq_cutoff[k]\n",
    "        sc = f1 * freq_to_sc[k]\n",
    "        a = sc**2 * 2 * np.pi**2\n",
    "        b = np.log((p * (2*np.pi)**0.5)/Sigman)\n",
    "        def fu2(x):\n",
    "            return a*np.exp(x)-0.5*x-b\n",
    "        x = fsolve(fu2, 5)\n",
    "        Sigmal = np.exp(x)\n",
    "\n",
    "        SigmafStack[k] = Sigmaf\n",
    "        SigmanStack[k] = Sigman\n",
    "        SigmalStack[k] = Sigmal\n",
    "\n",
    "    dIdzStack = np.zeros((Nx,Ny,Nsl))\n",
    "    CoeffStack = np.zeros((Nz,Nsl))\n",
    "    Coeff2Stack = np.zeros((Nz,Nsl))\n",
    "    for k in range(Nsl):\n",
    "        Sigmal = SigmalStack[k]\n",
    "        Sigman = SigmanStack[k]\n",
    "        Sigmaf = SigmafStack[k]\n",
    "        dIdz, Coeff, Coeff2 = GPRegression(Ividmeas, zfocus, z_vec, Sigmaf, Sigmal, Sigman)\n",
    "        dIdzStack[:,:,k] = 2*np.pi/lambd*ps**2*dIdz\n",
    "        CoeffStack[:,k] = Coeff\n",
    "        Coeff2Stack[:,k] = Coeff2\n",
    "\n",
    "    dIdzC = CombinePhase(dIdzStack, freq_cutoff, freqs, CoeffStack, Coeff2Stack)\n",
    "    ### poisson solver\n",
    "\n",
    "    Del2_Psi_xy = (-2*np.pi/lambd) * dIdzC\n",
    "    N = dIdzC.shape[0]\n",
    "    Psi_xy = poisson_solve(Del2_Psi_xy, ps, eps1, 0, reflect)\n",
    "\n",
    "    Grad_Psi_x, Grad_Psi_y = np.gradient(Psi_xy/ps)\n",
    "    Grad_Psi_x = Grad_Psi_x / (I0 + eps2)\n",
    "    Grad_Psi_y = Grad_Psi_y / (I0 + eps2)\n",
    "    grad2x, _ = np.gradient(Grad_Psi_x/ps)\n",
    "    _, grad2y = np.gradient(Grad_Psi_y/ps)\n",
    "    Del2_Psi_xy = grad2x + grad2y\n",
    "    Phi_xy = poisson_solve(Del2_Psi_xy, ps, eps1, 1, reflect)\n",
    "    dcval = (np.sum(Phi_xy[:,0]) + np.sum(Phi_xy[0,:]) + np.sum(Phi_xy[N-1,:]) + np.sum(Phi_xy[:,N-1]))/(4*N)\n",
    "    RePhase = -1 * (Phi_xy - dcval)\n",
    "    return RePhase\n",
    "\n",
    "def CalFrequency(img, lambd, ps, dz):\n",
    "    (nx, ny) = img.shape\n",
    "    dfx = 1/nx/ps\n",
    "    dfy = 1/ny/ps\n",
    "    (Kxdown, Kydown) = np.mgrid[-nx//2:nx//2,-ny//2:ny//2]\n",
    "    Kxdown = Kxdown * dfx\n",
    "    Kydown = Kydown * dfy\n",
    "    freqs = lambd * np.pi * (Kxdown ** 2 + Kydown ** 2)\n",
    "    freqs = freqs * dz / (2 * np.pi)\n",
    "    return freqs\n",
    "\n",
    "def CombinePhase(dIdzStack, Frq_cutoff, freqs, CoeffStack, Coeff2Stack):\n",
    "    def F(x):\n",
    "        return fft.ifftshift(fft.fft2(fft.fftshift(x)))\n",
    "\n",
    "    def Ft(x):\n",
    "        return fft.ifftshift(fft.ifft2(fft.fftshift(x)))\n",
    "\n",
    "    Nx, Ny, Nsl = dIdzStack.shape\n",
    "    dIdzC_fft = np.zeros((Nx,Ny))\n",
    "    Maskf = np.zeros((Nx,Ny))\n",
    "    f0 = 0\n",
    "    f1 = 1\n",
    "\n",
    "    for k in range(Nsl):\n",
    "        dIdz = dIdzStack[:,:,k]\n",
    "        dIdz_fft = F(dIdz)\n",
    "        f1 = Frq_cutoff[k]\n",
    "        Maskf = np.zeros((Nx,Ny))\n",
    "        Maskf[np.argwhere((freqs<=f1) & (freqs>f0))] = 1\n",
    "        f0 = f1\n",
    "        dIdzC_fft = dIdzC_fft + (dIdz_fft * Maskf)\n",
    "\n",
    "    return np.real(Ft(dIdzC_fft))\n",
    "\n",
    "def poisson_solve(func, ps, eps, symm, reflect):\n",
    "    N = len(func)\n",
    "\n",
    "    if reflect != 0:\n",
    "        N = N * 2\n",
    "        func = np.hstack([func, np.fliplr(func)])\n",
    "        func = np.vstack([func, np.flipud(func)])\n",
    "\n",
    "    wx = 2 * np.pi * np.arange(0,N,1)/N\n",
    "    fx = 1/(2 * np.pi * ps) * (wx - np.pi * (1 - N % 2 / N))\n",
    "    [Fx, Fy] = np.meshgrid(fx, fx)\n",
    "    func_ft = np.fft.fftshift(np.fft.fft2(func))\n",
    "\n",
    "    Psi_ft = func_ft / (-4 * np.pi**2 * (Fx**2 + Fy**2 + eps))\n",
    "    if (symm):\n",
    "        Psi_xy = np.fft.irfft2(np.fft.ifftshift(Psi_ft)[:,0:N//2+1])\n",
    "    else:\n",
    "        Psi_xy = np.fft.ifft2(np.fft.ifftshift(Psi_ft))\n",
    "\n",
    "    if reflect != 0:\n",
    "        N = N//2\n",
    "        Psi_xy = np.array(Psi_xy)[:N,:N]\n",
    "    return Psi_xy\n",
    "\n",
    "def mrdivide(A, B):\n",
    "    # Solves A / B or xA = B\n",
    "    return A.dot(np.linalg.pinv(B))\n",
    "\n",
    "\n",
    "def GPRegression(Ividmeas, zfocus, z, Sigmaf, Sigmal, Sigman):\n",
    "    Nx, Ny, Nz = Ividmeas.shape\n",
    "    ones = np.ones((Nz,1))\n",
    "    KZ = ones.dot(z.T) - z.dot(ones.T)\n",
    "    K = Sigmaf * (np.exp(-1/2/Sigmal*(KZ**2)))\n",
    "    L = np.linalg.cholesky(K+(Sigman*np.eye(Nz))).T #why multiplying by I\n",
    "    z2 = zfocus\n",
    "\n",
    "    Nz2 = len(z2)\n",
    "    ones2 = np.ones((Nz2,1))\n",
    "    KZ2 = ones * (z2.T) - z * (ones2.T)\n",
    "\n",
    "    D = Sigmaf * (np.exp((-1/2/Sigmal)*(KZ2**2))) / -Sigmal * KZ2\n",
    "    Coeff = mrdivide(mrdivide(D.T, L), L.T)[0]\n",
    "    D2 = Sigmaf * (np.exp((-1/2/Sigmal)*(KZ2**2)))\n",
    "    Coeff2 = mrdivide(mrdivide(D2.T, L), L.T)\n",
    "    dIdz = np.zeros((Nx,Ny))\n",
    "    for k in range(Nz):\n",
    "        dIdz = dIdz + Ividmeas[:,:,k].dot(Coeff[k])\n",
    "    return dIdz, Coeff, Coeff2\n",
    "\n",
    "# def main():\n",
    "#     data = loadmat(test_path)\n",
    "#     Ividmeas = data['Istack']\n",
    "#     z_vec = data['zvec']\n",
    "#     if z_vec.shape[0] == 1:\n",
    "#         z_vec = z_vec.T\n",
    "\n",
    "#     lambd = data['lambda'][0][0]\n",
    "#     ps = data['ps']\n",
    "#     zfocus = 1\n",
    "#     Nsl = 100\n",
    "#     eps1 = 1\n",
    "#     eps2 = 1\n",
    "#     reflect = False\n",
    "\n",
    "#     phase = GP_TIE(Ividmeas, z_vec, lambd, ps, zfocus, Nsl, eps1, eps2, reflect)\n",
    "#     plt.imshow(phase)\n",
    "#     plt.show()\n",
    "\n",
    "# if __name__ == '__main__':\n",
    "#     main()"
   ]
  },
  {
   "cell_type": "markdown",
   "metadata": {},
   "source": [
    "<hr style=\"height:2px;\">\n",
    "\n",
    "## Part 2: Collect a Z-Stack of your sample\n",
    "\n",
    "First verify you have a working installation of [Pycro-Manager](https://pycro-manager.readthedocs.io/en/latest/setup.html). Open Micro-Manager, select tools-options, and check the box that says Run server on port 4827 (you only need to do this once). Run:"
   ]
  },
  {
   "cell_type": "code",
   "execution_count": 2,
   "metadata": {},
   "outputs": [],
   "source": [
    "from pycromanager import Acquisition, multi_d_acquisition_events, Dataset"
   ]
  },
  {
   "cell_type": "markdown",
   "metadata": {},
   "source": [
    "We will be using [aquisition events](https://pycro-manager.readthedocs.io/en/latest/acq_intro.html), an extremely useful feature of Pycro-Manager that allows you to create sets of hardware postitions and images to collect images.\n",
    "Let's create an aquisition event that will collect a z-stack of the sample we have staged on our microscope right now. The following code will create the [aquisition event](https://pycro-manager.readthedocs.io/en/latest/apis.html?highlight=multi_d_aq#pycromanager.multi_d_acquisition_events) and initiate collection of the z-stack. Make sure your microscope is ready, and specify the filepath you want to store the images in."
   ]
  },
  {
   "cell_type": "code",
   "execution_count": 3,
   "metadata": {},
   "outputs": [],
   "source": [
    "events = []\n",
    "if __name__ == '__main__':\n",
    "    with Acquisition(directory=r'C:\\Users\\Ryan\\Desktop\\Imaging\\test_folder', name='tie_acq') as acq:\n",
    "        events = multi_d_acquisition_events(z_start=0, z_end=3, z_step=1)  # in micrometers\n",
    "        acq.acquire(events)"
   ]
  },
  {
   "cell_type": "code",
   "execution_count": 12,
   "metadata": {},
   "outputs": [
    {
     "name": "stdout",
     "output_type": "stream",
     "text": [
      "\r",
      "Opening file 1 of 1\r",
      "Dataset opened\n",
      "\r",
      "Adding data chunk 1 of 3\r",
      "Adding data chunk 2 of 3\r",
      "Adding data chunk 3 of 3Stacking tiles\n",
      "\r",
      "Dask array opened\n"
     ]
    }
   ],
   "source": [
    "data = Dataset(dataset_path=r'C:\\Users\\Ryan\\Desktop\\Imaging\\test_folder\\tie_acq_22').as_array()  # _17 could be another number!\n",
    "Ividmeas = np.asarray(data) # as_arry() returns a Dask array, but we would like to work with np arrays\n",
    "z_vec = np.array([[i['z'] for i in events]])"
   ]
  },
  {
   "cell_type": "code",
   "execution_count": 16,
   "metadata": {},
   "outputs": [
    {
     "name": "stdout",
     "output_type": "stream",
     "text": [
      "dask.array<stack, shape=(3, 512, 512), dtype=uint16, chunksize=(1, 512, 512), chunktype=numpy.ndarray>\n",
      "[{'axes': {'z': 0}, 'z': 0}, {'axes': {'z': 1}, 'z': 1}, {'axes': {'z': 2}, 'z': 2}]\n",
      "(3, 512, 512)\n",
      "[[[3276 3339 3402 ... 3087 3150 3213]\n",
      "  [3284 3347 3410 ... 3095 3158 3221]\n",
      "  [3292 3355 3418 ... 3103 3166 3229]\n",
      "  ...\n",
      "  [5846 5846 5844 ... 5837 5842 5845]\n",
      "  [5846 5846 5844 ... 5838 5842 5845]\n",
      "  [5846 5846 5843 ... 5839 5843 5845]]\n",
      "\n",
      " [[5093 5138 5180 ... 4955 5002 5048]\n",
      "  [5099 5143 5186 ... 4961 5008 5054]\n",
      "  [5105 5148 5191 ... 4967 5014 5060]\n",
      "  ...\n",
      "  [5110 5065 5020 ... 5238 5196 5154]\n",
      "  [5105 5060 5014 ... 5232 5191 5148]\n",
      "  [5099 5054 5008 ... 5227 5186 5143]]\n",
      "\n",
      " [[5036 5035 5033 ... 5030 5033 5035]\n",
      "  [5036 5035 5033 ... 5030 5033 5035]\n",
      "  [5036 5035 5032 ... 5031 5034 5035]\n",
      "  ...\n",
      "  [2842 2788 2734 ... 3005 2951 2897]\n",
      "  [2836 2781 2727 ... 2998 2944 2890]\n",
      "  [2829 2774 2720 ... 2992 2937 2883]]]\n",
      "[[0]\n",
      " [1]\n",
      " [2]]\n"
     ]
    }
   ],
   "source": [
    "print(data)\n",
    "print(events)\n",
    "print(np.shape(Ividmeas))\n",
    "print(Ividmeas)\n",
    "print(z_vec)"
   ]
  },
  {
   "cell_type": "markdown",
   "metadata": {},
   "source": [
    "Our images are now in data! Let's apply TIE and see the results:"
   ]
  },
  {
   "cell_type": "code",
   "execution_count": 15,
   "metadata": {},
   "outputs": [
    {
     "name": "stdout",
     "output_type": "stream",
     "text": [
      "transformed\n"
     ]
    }
   ],
   "source": [
    "if z_vec.shape[0] == 1:\n",
    "    z_vec = z_vec.T\n",
    "    print('transformed')"
   ]
  },
  {
   "cell_type": "code",
   "execution_count": 17,
   "metadata": {},
   "outputs": [
    {
     "ename": "KeyError",
     "evalue": "'There are no fields in dtype uint16.'",
     "output_type": "error",
     "traceback": [
      "\u001b[1;31m---------------------------------------------------------------------------\u001b[0m",
      "\u001b[1;31mKeyError\u001b[0m                                  Traceback (most recent call last)",
      "\u001b[1;32m<ipython-input-17-3e9ae87444fe>\u001b[0m in \u001b[0;36m<module>\u001b[1;34m\u001b[0m\n\u001b[1;32m----> 1\u001b[1;33m \u001b[0mlambd\u001b[0m \u001b[1;33m=\u001b[0m \u001b[0mdata\u001b[0m\u001b[1;33m[\u001b[0m\u001b[1;34m'lambda'\u001b[0m\u001b[1;33m]\u001b[0m\u001b[1;33m[\u001b[0m\u001b[1;36m0\u001b[0m\u001b[1;33m]\u001b[0m\u001b[1;33m[\u001b[0m\u001b[1;36m0\u001b[0m\u001b[1;33m]\u001b[0m\u001b[1;33m\u001b[0m\u001b[0m\n\u001b[0m\u001b[0;32m      2\u001b[0m \u001b[0mps\u001b[0m \u001b[1;33m=\u001b[0m \u001b[0mdata\u001b[0m\u001b[1;33m[\u001b[0m\u001b[1;34m'ps'\u001b[0m\u001b[1;33m]\u001b[0m\u001b[1;33m\u001b[0m\u001b[0m\n\u001b[0;32m      3\u001b[0m \u001b[0mzfocus\u001b[0m \u001b[1;33m=\u001b[0m \u001b[1;36m1\u001b[0m\u001b[1;33m\u001b[0m\u001b[0m\n\u001b[0;32m      4\u001b[0m \u001b[0mNsl\u001b[0m \u001b[1;33m=\u001b[0m \u001b[1;36m50\u001b[0m\u001b[1;33m\u001b[0m\u001b[0m\n\u001b[0;32m      5\u001b[0m \u001b[0meps1\u001b[0m \u001b[1;33m=\u001b[0m \u001b[1;36m1\u001b[0m\u001b[1;33m\u001b[0m\u001b[0m\n",
      "\u001b[1;32mc:\\users\\ryan\\appdata\\local\\programs\\python\\python37\\lib\\site-packages\\dask\\array\\core.py\u001b[0m in \u001b[0;36m__getitem__\u001b[1;34m(self, index)\u001b[0m\n\u001b[0;32m   1509\u001b[0m         ):\n\u001b[0;32m   1510\u001b[0m             \u001b[1;32mif\u001b[0m \u001b[0misinstance\u001b[0m\u001b[1;33m(\u001b[0m\u001b[0mindex\u001b[0m\u001b[1;33m,\u001b[0m \u001b[0mstr\u001b[0m\u001b[1;33m)\u001b[0m\u001b[1;33m:\u001b[0m\u001b[1;33m\u001b[0m\u001b[0m\n\u001b[1;32m-> 1511\u001b[1;33m                 \u001b[0mdt\u001b[0m \u001b[1;33m=\u001b[0m \u001b[0mself\u001b[0m\u001b[1;33m.\u001b[0m\u001b[0mdtype\u001b[0m\u001b[1;33m[\u001b[0m\u001b[0mindex\u001b[0m\u001b[1;33m]\u001b[0m\u001b[1;33m\u001b[0m\u001b[0m\n\u001b[0m\u001b[0;32m   1512\u001b[0m             \u001b[1;32melse\u001b[0m\u001b[1;33m:\u001b[0m\u001b[1;33m\u001b[0m\u001b[0m\n\u001b[0;32m   1513\u001b[0m                 \u001b[0mdt\u001b[0m \u001b[1;33m=\u001b[0m \u001b[0m_make_sliced_dtype\u001b[0m\u001b[1;33m(\u001b[0m\u001b[0mself\u001b[0m\u001b[1;33m.\u001b[0m\u001b[0mdtype\u001b[0m\u001b[1;33m,\u001b[0m \u001b[0mindex\u001b[0m\u001b[1;33m)\u001b[0m\u001b[1;33m\u001b[0m\u001b[0m\n",
      "\u001b[1;31mKeyError\u001b[0m: 'There are no fields in dtype uint16.'"
     ]
    }
   ],
   "source": [
    "lambd = data['lambda'][0][0]\n",
    "ps = data['ps']\n",
    "zfocus = 1\n",
    "Nsl = 50\n",
    "eps1 = 1\n",
    "eps2 = 1\n",
    "reflect = False"
   ]
  },
  {
   "cell_type": "code",
   "execution_count": null,
   "metadata": {},
   "outputs": [],
   "source": []
  },
  {
   "cell_type": "code",
   "execution_count": 8,
   "metadata": {},
   "outputs": [],
   "source": [
    "test_path = r'C:\\Users\\Ryan\\Downloads\\moustache_man_stack.mat'\n",
    "\n",
    "data = loadmat(test_path)"
   ]
  },
  {
   "cell_type": "code",
   "execution_count": 10,
   "metadata": {},
   "outputs": [],
   "source": [
    "Ividmeas = data['Istack']   # 512x512x3 array"
   ]
  },
  {
   "cell_type": "code",
   "execution_count": 9,
   "metadata": {},
   "outputs": [
    {
     "name": "stdout",
     "output_type": "stream",
     "text": [
      "[[-2.e-05]\n",
      " [ 0.e+00]\n",
      " [ 2.e-05]]\n"
     ]
    }
   ],
   "source": [
    "z_vec = data['zvec']\n",
    "if z_vec.shape[0] == 1:\n",
    "    z_vec = z_vec.T\n",
    "print(z_vec)"
   ]
  },
  {
   "cell_type": "code",
   "execution_count": null,
   "metadata": {},
   "outputs": [],
   "source": [
    "print(data['lambda'])"
   ]
  },
  {
   "cell_type": "code",
   "execution_count": 11,
   "metadata": {},
   "outputs": [],
   "source": [
    "lambd = data['lambda'][0][0]\n",
    "ps = data['ps']\n",
    "zfocus = 1\n",
    "Nsl = 50\n",
    "eps1 = 1\n",
    "eps2 = 1\n",
    "reflect = False"
   ]
  },
  {
   "cell_type": "code",
   "execution_count": 12,
   "metadata": {},
   "outputs": [
    {
     "name": "stdout",
     "output_type": "stream",
     "text": [
      "phase:  (512, 512)\n",
      "time:  40.64507055282593\n"
     ]
    },
    {
     "data": {
      "image/png": "[encoded data removed]",
      "text/plain": [
       "<Figure size 432x288 with 1 Axes>"
      ]
     },
     "metadata": {
      "needs_background": "light"
     },
     "output_type": "display_data"
    }
   ],
   "source": [
    "gptie = GP_TIE()\n",
    "# print(\"loading data\")\n",
    "start = time.time()\n",
    "phase = gptie(Ividmeas, z_vec, lambd, ps, zfocus, Nsl, eps1, eps2, reflect).numpy()\n",
    "end = time.time()\n",
    "print(\"phase: \", phase.shape)\n",
    "print(\"time: \", end - start)\n",
    "plt.imshow(phase)\n",
    "plt.show()"
   ]
  },
  {
   "cell_type": "code",
   "execution_count": null,
   "metadata": {},
   "outputs": [],
   "source": [
    "mou = Ividmeas[:,:,0]\n",
    "plt.imshow(mou)\n",
    "plt.show()"
   ]
  },
  {
   "cell_type": "code",
   "execution_count": null,
   "metadata": {},
   "outputs": [],
   "source": [
    "mou = Ividmeas[:,:,1]\n",
    "plt.imshow(mou)\n",
    "plt.show()"
   ]
  },
  {
   "cell_type": "code",
   "execution_count": null,
   "metadata": {},
   "outputs": [],
   "source": [
    "mou = Ividmeas[:,:,2]\n",
    "plt.imshow(mou)\n",
    "plt.show()"
   ]
  },
  {
   "cell_type": "code",
   "execution_count": null,
   "metadata": {},
   "outputs": [],
   "source": []
  }
 ],
 "metadata": {
  "celltoolbar": "Raw Cell Format",
  "kernelspec": {
   "display_name": "Python 3",
   "language": "python",
   "name": "python3"
  },
  "language_info": {
   "codemirror_mode": {
    "name": "ipython",
    "version": 3
   },
   "file_extension": ".py",
   "mimetype": "text/x-python",
   "name": "python",
   "nbconvert_exporter": "python",
   "pygments_lexer": "ipython3",
   "version": "3.7.0"
  }
 },
 "nbformat": 4,
 "nbformat_minor": 4
}
